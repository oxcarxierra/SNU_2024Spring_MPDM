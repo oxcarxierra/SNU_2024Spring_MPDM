{
 "cells": [
  {
   "cell_type": "markdown",
   "metadata": {},
   "source": [
    "# Problem 2(b)"
   ]
  },
  {
   "cell_type": "markdown",
   "metadata": {},
   "source": [
    "2. Now, neglect the grid lines in the above problem. Find the trajectory from A (x,y,θ) = (3,15,0) to B\n",
    "(x,y,θ) = (23,1,0) for the following system\n",
    "\n",
    "$x = v cos θ $\n",
    "\n",
    "$y = v sin θ $\n",
    "\n",
    "$θ = u1 $\n",
    " \n",
    "$v = u2 $\n",
    " \n",
    "where θ is the angle with respect to the x axis, u1,u2 ∈ [−1,1]. You may neglect the dimension of the\n",
    "car.\n",
    "\n",
    "(b) Use the potential function method. (You may show only partial result for this.)"
   ]
  },
  {
   "cell_type": "code",
   "execution_count": 75,
   "metadata": {},
   "outputs": [],
   "source": [
    "import numpy as np\n",
    "import matplotlib.pyplot as plt\n",
    "import matplotlib.patches as patches"
   ]
  },
  {
   "cell_type": "code",
   "execution_count": 76,
   "metadata": {},
   "outputs": [],
   "source": [
    "# Given constants\n",
    "occ_map = np.array(\n",
    "    [\n",
    "        [0, 0, 0, 0, 1, 1, 1, 1, 1, 1, 1, 1, 1, 1, 1, 1, 1, 0, 0, 0, 0, 0, 1, 1, 1],\n",
    "        [0, 0, 0, 0, 0, 1, 0, 0, 0, 1, 0, 0, 0, 0, 0, 0, 0, 0, 0, 0, 0, 0, 0, 0, 1],\n",
    "        [0, 0, 0, 0, 0, 1, 0, 0, 0, 1, 0, 0, 0, 0, 0, 0, 0, 0, 0, 0, 0, 0, 0, 0, 1],\n",
    "        [0, 0, 0, 0, 0, 1, 0, 0, 0, 0, 0, 0, 1, 0, 0, 0, 1, 1, 1, 1, 1, 0, 0, 0, 1],\n",
    "        [1, 0, 0, 0, 0, 1, 0, 0, 0, 0, 0, 0, 1, 0, 0, 0, 1, 1, 0, 0, 0, 0, 0, 0, 1],\n",
    "        [1, 0, 0, 0, 1, 1, 1, 0, 0, 0, 0, 0, 1, 0, 0, 0, 1, 1, 0, 0, 0, 0, 0, 0, 1],\n",
    "        [1, 0, 0, 0, 1, 1, 1, 0, 0, 0, 0, 0, 1, 0, 0, 0, 1, 1, 0, 0, 0, 0, 0, 0, 1],\n",
    "        [1, 0, 0, 0, 1, 1, 1, 0, 0, 0, 0, 0, 1, 0, 0, 0, 1, 1, 1, 1, 1, 1, 1, 1, 1],\n",
    "        [1, 0, 0, 0, 0, 0, 0, 0, 0, 0, 0, 0, 1, 0, 0, 0, 1, 1, 0, 0, 0, 0, 0, 0, 1],\n",
    "        [1, 0, 0, 0, 0, 0, 0, 0, 0, 0, 0, 0, 1, 0, 0, 0, 1, 1, 0, 0, 0, 0, 0, 0, 1],\n",
    "        [1, 0, 0, 0, 0, 0, 0, 0, 1, 1, 0, 0, 1, 0, 0, 0, 1, 1, 0, 0, 0, 0, 0, 0, 1],\n",
    "        [0, 0, 0, 0, 1, 0, 0, 0, 1, 1, 0, 0, 1, 0, 0, 0, 0, 0, 0, 0, 1, 0, 0, 0, 1],\n",
    "        [0, 0, 0, 0, 1, 0, 0, 0, 0, 0, 0, 0, 1, 0, 0, 0, 0, 0, 0, 0, 1, 0, 0, 0, 1],\n",
    "        [0, 0, 0, 0, 1, 0, 0, 0, 0, 0, 0, 0, 1, 0, 0, 0, 0, 0, 0, 0, 1, 0, 0, 0, 1],\n",
    "        [0, 0, 0, 0, 1, 0, 0, 0, 1, 1, 1, 1, 1, 1, 1, 1, 1, 1, 1, 1, 1, 0, 0, 0, 1],\n",
    "    ]\n",
    ")\n",
    "map_height = occ_map.shape[0]\n",
    "map_width = occ_map.shape[1]\n",
    "start_coord = (2.5, 14.5)\n",
    "goal_coord = (22.5, 0.5)\n",
    "\n",
    "MAX_POTENTIAL = 1"
   ]
  },
  {
   "cell_type": "code",
   "execution_count": 77,
   "metadata": {},
   "outputs": [],
   "source": [
    "def is_occupied(x, y):\n",
    "    if x <= 0 or x >= map_width or y <= 0 or y >= map_height:\n",
    "        return True\n",
    "    return occ_map[int(map_height - y), int(x)] == 1"
   ]
  },
  {
   "cell_type": "code",
   "execution_count": 78,
   "metadata": {},
   "outputs": [],
   "source": [
    "def goal_potential(x, y):\n",
    "    return (\n",
    "        0.05\n",
    "        * MAX_POTENTIAL\n",
    "        * np.sqrt((x - goal_coord[0]) ** 2 + (y - goal_coord[1]) ** 2)\n",
    "    )\n"
   ]
  },
  {
   "cell_type": "code",
   "execution_count": 79,
   "metadata": {},
   "outputs": [],
   "source": [
    "def obstacle_potential(x, y, a=5):\n",
    "    if is_occupied(x, y):\n",
    "        return MAX_POTENTIAL\n",
    "    min_dist_to_obstacle = np.inf\n",
    "    for i in range(map_width):\n",
    "        for j in range(map_height):\n",
    "            if is_occupied(i, j):\n",
    "                dist = np.sqrt((x - i) ** 2 + (y - j) ** 2)\n",
    "                if dist < min_dist_to_obstacle:\n",
    "                    min_dist_to_obstacle = dist\n",
    "    return MAX_POTENTIAL * np.exp(-(min_dist_to_obstacle-1) * a)\n",
    "    # return scale * min((1/min_dist_to_obstacle - 1/0.5) ** 2,MAX_POTENTIAL)"
   ]
  },
  {
   "cell_type": "code",
   "execution_count": 80,
   "metadata": {},
   "outputs": [],
   "source": [
    "def total_potential(x, y, scale=1):\n",
    "    return obstacle_potential(x, y) + goal_potential(x, y)"
   ]
  },
  {
   "cell_type": "code",
   "execution_count": 81,
   "metadata": {},
   "outputs": [],
   "source": [
    "def plot_potential_field_3d():\n",
    "    fig = plt.figure()\n",
    "    ax = fig.add_subplot(111, projection=\"3d\")\n",
    "    x = np.arange(0, map_width, 0.1)\n",
    "    y = np.arange(0, map_height, 0.1)\n",
    "\n",
    "    X, Y = np.meshgrid(x, y)\n",
    "    Z = np.zeros_like(X)\n",
    "    print(x.size, y.size, Z.shape)\n",
    "    for i, a in enumerate(x):\n",
    "        for j, b in enumerate(y):\n",
    "            Z[j, i] = total_potential(a, b)\n",
    "\n",
    "    surf = ax.plot_surface(X, Y, Z, cmap=plt.cm.cividis)\n",
    "\n",
    "    # Plotting the 3D surface\n",
    "    surf = ax.plot_surface(X, Y, Z, cmap=\"viridis\", edgecolor=\"none\")\n",
    "    ax.set_title(\"3D Potential Field\")\n",
    "    ax.set_xlabel(\"X coordinate\")\n",
    "    ax.set_ylabel(\"Y coordinate\")\n",
    "    ax.set_zlabel(\"Potential\")\n",
    "    fig.colorbar(\n",
    "        surf, shrink=0.5, aspect=5\n",
    "    )  # Add a color bar to indicate potential values\n",
    "\n",
    "    # Plot start and goal points\n",
    "    ax.scatter(\n",
    "        start_coord[0],\n",
    "        start_coord[1],\n",
    "        total_potential(start_coord[0], start_coord[1]),\n",
    "        color=\"g\",\n",
    "        s=100,\n",
    "        label=\"Start\",\n",
    "    )\n",
    "    ax.scatter(\n",
    "        goal_coord[0],\n",
    "        goal_coord[1],\n",
    "        total_potential(goal_coord[0], goal_coord[1]),\n",
    "        color=\"b\",\n",
    "        s=100,\n",
    "        label=\"Goal\",\n",
    "    )\n",
    "\n",
    "    plt.legend()\n",
    "    plt.show()"
   ]
  },
  {
   "cell_type": "code",
   "execution_count": 82,
   "metadata": {},
   "outputs": [],
   "source": [
    "def gradient(x, y, scale=1):\n",
    "    delta = 0.01\n",
    "    dx = (\n",
    "        total_potential(x + delta, y, scale) - total_potential(x - delta, y, scale)\n",
    "    ) / (2 * delta)\n",
    "    dy = (\n",
    "        total_potential(x, y + delta, scale) - total_potential(x, y - delta, scale)\n",
    "    ) / (2 * delta)\n",
    "    return dx, dy"
   ]
  },
  {
   "cell_type": "code",
   "execution_count": 86,
   "metadata": {},
   "outputs": [],
   "source": [
    "def path_planning(max_step=500):\n",
    "    step = 0\n",
    "    path = [start_coord]\n",
    "    x, y = start_coord\n",
    "    while np.sqrt((x - goal_coord[0]) ** 2 + (y - goal_coord[1]) ** 2) > 0.1:\n",
    "        if step > max_step:\n",
    "            print(\"Max step reached, finishing path planning\")\n",
    "            break\n",
    "        if x <= 0 or x >= map_width or y <= 0 or y >= map_height:\n",
    "            print(\"Out of map, finishing path planning at step \", step)\n",
    "            break\n",
    "        dx, dy = gradient(x, y)\n",
    "        x = x - 0.5 * min(dx, 10)\n",
    "        y = y - 0.5 * min(dy, 10)\n",
    "        path.append((x, y))\n",
    "        step += 1\n",
    "    return np.array(path)"
   ]
  },
  {
   "cell_type": "code",
   "execution_count": 87,
   "metadata": {},
   "outputs": [],
   "source": [
    "\n",
    "def plot_occupancy_map_and_path(path):\n",
    "    fig = plt.figure()\n",
    "    ax = fig.add_subplot(111)\n",
    "    ax.set_aspect(\"equal\")\n",
    "    ax.margins(0)\n",
    "    # Display the occupancy grid\n",
    "    for y in range(map_height):\n",
    "        for x in range(map_width):\n",
    "            if occ_map[map_height - 1 - y][x] == 1:\n",
    "                # Adding a rectangle for each occupied cell\n",
    "                ax.add_patch(patches.Rectangle((x, y), 1, 1, color=\"black\"))\n",
    "\n",
    "    ax.plot(path[:, 0], path[:, 1], \"-\")\n",
    "    ax.plot(path[0, 0], path[0, 1], \"go\", label=\"Start\")  # Start point\n",
    "    ax.plot(path[-1, 0], path[-1, 1], \"bx\", label=\"Goal\")  # End point\n",
    "\n",
    "    # Adding labels and a title for clarity\n",
    "    ax.set_title(\"Occupancy Map\")\n",
    "    ax.set_xlabel(\"X coordinate\")\n",
    "    ax.set_ylabel(\"Y coordinate\")\n",
    "\n",
    "    ax.set_xticks(np.arange(0, map_width, 1))\n",
    "    ax.set_yticks(np.arange(0, map_height, 1))\n",
    "    plt.show()"
   ]
  },
  {
   "cell_type": "code",
   "execution_count": 88,
   "metadata": {},
   "outputs": [
    {
     "name": "stdout",
     "output_type": "stream",
     "text": [
      "Max step reached, finishing path planning\n"
     ]
    },
    {
     "data": {
      "image/png": "[encoded data removed]",
      "text/plain": [
       "<Figure size 640x480 with 1 Axes>"
      ]
     },
     "metadata": {},
     "output_type": "display_data"
    }
   ],
   "source": [
    "path = path_planning()\n",
    "plot_occupancy_map_and_path(path)"
   ]
  },
  {
   "cell_type": "code",
   "execution_count": null,
   "metadata": {},
   "outputs": [],
   "source": []
  }
 ],
 "metadata": {
  "kernelspec": {
   "display_name": ".venv",
   "language": "python",
   "name": "python3"
  },
  "language_info": {
   "codemirror_mode": {
    "name": "ipython",
    "version": 3
   },
   "file_extension": ".py",
   "mimetype": "text/x-python",
   "name": "python",
   "nbconvert_exporter": "python",
   "pygments_lexer": "ipython3",
   "version": "3.9.6"
  }
 },
 "nbformat": 4,
 "nbformat_minor": 2
}
